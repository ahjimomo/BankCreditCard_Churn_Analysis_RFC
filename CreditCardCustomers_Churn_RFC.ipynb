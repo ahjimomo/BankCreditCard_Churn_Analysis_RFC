{
 "cells": [
  {
   "cell_type": "markdown",
   "id": "1733cc96",
   "metadata": {},
   "source": [
    "# Overview\n",
    "\n",
    "### Project: Analysis and prediction model on Credit Card Customers Churn Rate\n",
    "\n",
    "### Summary: RandomForestClassifier - 95.51% accuracy & 75.69% recall\n",
    "\n",
    "**Credit:**This project is credited to the dataset available on Kaggle by user [Sakshi Goyal](https://www.kaggle.com/sakshigoyal7/credit-card-customers) titled Credit Card Customers. Work is done with reference to many other greater codes uploaded by other kaggle users. <br>\n",
    "**Author:** [Nicky (Kaggle)](https://www.kaggle.com/nickyng) | [ahjimomo (GitHub)](https://github.com/ahjimomo) <br>\n",
    "**Background:** Project is build on for the submission of school's module of TIC3901 - Industrial Practice from the [National University of Singapore (NUS)](https://www.nus.edu.sg/) for AY 2021/22 Semester 2"
   ]
  },
  {
   "cell_type": "markdown",
   "id": "dcddf115",
   "metadata": {},
   "source": [
    "# Table Of Contents\n",
    "* [01 Task and Introduction](#Task-And-Introduction)\n",
    "* [02 Data Exploration and Imports](#Data-Exploration-and-Imports)\n",
    "    - [2A Feature Description Table](#Feature-Description)\n",
    "    - [2B Target](#Target)\n",
    "* [03 Data Visualization](#Data-Visualization)\n",
    "* [04 Data Preparation](#Data-Preparation)\n",
    "    - [4A Data Discretization](#Data-Discretization)\n",
    "    - [4B Data Conversion](#Data-Conversion)\n",
    "    - [4C Feature Encoding](#Feature-Encoding)\n",
    "    - [4D Train-Test Data Split](#Train-Test-Split)\n",
    "* [4 Random Forest Classifier](#Random-Forest)\n",
    "    - [4A RFC Model Evaluation](#RFC-Model-Evaluation) \n",
    "* [5 Conclusion](#Conclusion)"
   ]
  },
  {
   "cell_type": "markdown",
   "id": "838a9928",
   "metadata": {},
   "source": [
    "<a id=\"Task-And-Introduction\"></a>\n",
    "# 01 Task and Introduction\n",
    "\n",
    "<h1 style=\"color:#323232;font-size:60px;font-family:Georgia;text-align:center;\"><strong>What is Churn?</h1>\n",
    "<p style= \"font-family:Georgia;color:#000000;font-size:110%;text-align:center;border-radius:10px 10px;border-style: dotted;border-width:5px;border-color:#323232;\"><br>\n",
    "Customer churn or customer attrition is the phenomenon where customers of a business no longer purchase or interact with the business. A high churn means that higher number of customers no longer want to purchase goods and services from the business.<br>\n",
    "Therefore, churn analysis is an important metrics to inform the organisation of any red flags on customers leaving, what makes a customer stay loyal or issues that is causing customers to leave the organisation.<br>\n",
    "    <br></p>\n",
    "    \n",
    "<h1 style=\"color:#323232;font-size:60px;font-family:Georgia;text-align:center;\"><strong>How is the customer's churn rate calculated?</h1>\n",
    "<p style= \"font-family:Georgia;color:#000000;font-size:110%;text-align:center;border-radius:10px 10px;border-style: dotted;border-width:5px;border-color:#323232;\"><br>\n",
    "    <b>Customer Churn Rate = No. of churned customers / Total No. of customers x 100</b><br>\n",
    "    * This is usually calculated over a specified period of time<br>\n",
    "    <br></p>\n",
    "    \n",
    "<h1 style=\"color:#323232;font-size:60px;font-family:Georgia;text-align:center;\"><bg>Objectives</b></h1>\n",
    "<p style= \"font-family:Georgia;color:#000000;font-size:110%;text-align:center;border-radius:10px 10px;border-style: dotted;border-width:5px;border-color:#323232;\"><br>\n",
    "    For this project, we will be doing an exploratory data analysis (EDA) on the dataset and generate a model that predicts customers that will churn based on the features within the dataset. <br>\n",
    "    While there are many Machine Learning techinques available, we will be focusing on the Random Forest Classifer available from the SKLearn library.<br>\n",
    "    <br></p>"
   ]
  },
  {
   "cell_type": "markdown",
   "id": "a2df90ce",
   "metadata": {},
   "source": [
    "<a id=\"Data-Exploration-and-Imports\"></a>\n",
    "## 02 Data Exploration & Imports"
   ]
  },
  {
   "cell_type": "code",
   "execution_count": 1,
   "id": "5e79e6e4",
   "metadata": {},
   "outputs": [],
   "source": [
    "# Libraries\n",
    "\n",
    "#%% Imports\n",
    "import numpy as np\n",
    "import pandas as pd\n",
    "import matplotlib.pyplot as plt\n",
    "import seaborn as sns\n",
    "%matplotlib inline\n",
    "from matplotlib import pyplot\n",
    "from IPython.display import display \n",
    "from sklearn import model_selection\n",
    "from sklearn.preprocessing import LabelEncoder\n",
    "from sklearn.ensemble import RandomForestClassifier\n",
    "from sklearn.model_selection import train_test_split\n",
    "from sklearn.metrics import confusion_matrix\n",
    "from sklearn.metrics import plot_confusion_matrix\n",
    "from sklearn.metrics import classification_report, confusion_matrix, accuracy_score, recall_score, roc_auc_score, precision_score"
   ]
  },
  {
   "cell_type": "code",
   "execution_count": 2,
   "id": "e169a464",
   "metadata": {},
   "outputs": [],
   "source": [
    "# Importing dataset\n",
    "\n",
    "raw = pd.read_csv(\"01_Raw_Data/BankChurners.csv\")"
   ]
  },
  {
   "cell_type": "code",
   "execution_count": 3,
   "id": "61cf61e4",
   "metadata": {},
   "outputs": [
    {
     "name": "stdout",
     "output_type": "stream",
     "text": [
      "<class 'pandas.core.frame.DataFrame'>\n",
      "RangeIndex: 10127 entries, 0 to 10126\n",
      "Data columns (total 23 columns):\n",
      " #   Column                                                                                                                              Non-Null Count  Dtype  \n",
      "---  ------                                                                                                                              --------------  -----  \n",
      " 0   CLIENTNUM                                                                                                                           10127 non-null  int64  \n",
      " 1   Attrition_Flag                                                                                                                      10127 non-null  object \n",
      " 2   Customer_Age                                                                                                                        10127 non-null  int64  \n",
      " 3   Gender                                                                                                                              10127 non-null  object \n",
      " 4   Dependent_count                                                                                                                     10127 non-null  int64  \n",
      " 5   Education_Level                                                                                                                     10127 non-null  object \n",
      " 6   Marital_Status                                                                                                                      10127 non-null  object \n",
      " 7   Income_Category                                                                                                                     10127 non-null  object \n",
      " 8   Card_Category                                                                                                                       10127 non-null  object \n",
      " 9   Months_on_book                                                                                                                      10127 non-null  int64  \n",
      " 10  Total_Relationship_Count                                                                                                            10127 non-null  int64  \n",
      " 11  Months_Inactive_12_mon                                                                                                              10127 non-null  int64  \n",
      " 12  Contacts_Count_12_mon                                                                                                               10127 non-null  int64  \n",
      " 13  Credit_Limit                                                                                                                        10127 non-null  float64\n",
      " 14  Total_Revolving_Bal                                                                                                                 10127 non-null  int64  \n",
      " 15  Avg_Open_To_Buy                                                                                                                     10127 non-null  float64\n",
      " 16  Total_Amt_Chng_Q4_Q1                                                                                                                10127 non-null  float64\n",
      " 17  Total_Trans_Amt                                                                                                                     10127 non-null  int64  \n",
      " 18  Total_Trans_Ct                                                                                                                      10127 non-null  int64  \n",
      " 19  Total_Ct_Chng_Q4_Q1                                                                                                                 10127 non-null  float64\n",
      " 20  Avg_Utilization_Ratio                                                                                                               10127 non-null  float64\n",
      " 21  Naive_Bayes_Classifier_Attrition_Flag_Card_Category_Contacts_Count_12_mon_Dependent_count_Education_Level_Months_Inactive_12_mon_1  10127 non-null  float64\n",
      " 22  Naive_Bayes_Classifier_Attrition_Flag_Card_Category_Contacts_Count_12_mon_Dependent_count_Education_Level_Months_Inactive_12_mon_2  10127 non-null  float64\n",
      "dtypes: float64(7), int64(10), object(6)\n",
      "memory usage: 1.8+ MB\n"
     ]
    }
   ],
   "source": [
    "# Review data's attributes and data types - df.info()\n",
    "\n",
    "raw.info() # 10,127 rows & 23 columns"
   ]
  },
  {
   "cell_type": "code",
   "execution_count": 4,
   "id": "9d44bc76",
   "metadata": {},
   "outputs": [
    {
     "data": {
      "text/html": [
       "<div>\n",
       "<style scoped>\n",
       "    .dataframe tbody tr th:only-of-type {\n",
       "        vertical-align: middle;\n",
       "    }\n",
       "\n",
       "    .dataframe tbody tr th {\n",
       "        vertical-align: top;\n",
       "    }\n",
       "\n",
       "    .dataframe thead th {\n",
       "        text-align: right;\n",
       "    }\n",
       "</style>\n",
       "<table border=\"1\" class=\"dataframe\">\n",
       "  <thead>\n",
       "    <tr style=\"text-align: right;\">\n",
       "      <th></th>\n",
       "      <th>CLIENTNUM</th>\n",
       "      <th>Attrition_Flag</th>\n",
       "      <th>Customer_Age</th>\n",
       "      <th>Gender</th>\n",
       "      <th>Dependent_count</th>\n",
       "      <th>Education_Level</th>\n",
       "      <th>Marital_Status</th>\n",
       "      <th>Income_Category</th>\n",
       "      <th>Card_Category</th>\n",
       "      <th>Months_on_book</th>\n",
       "      <th>...</th>\n",
       "      <th>Credit_Limit</th>\n",
       "      <th>Total_Revolving_Bal</th>\n",
       "      <th>Avg_Open_To_Buy</th>\n",
       "      <th>Total_Amt_Chng_Q4_Q1</th>\n",
       "      <th>Total_Trans_Amt</th>\n",
       "      <th>Total_Trans_Ct</th>\n",
       "      <th>Total_Ct_Chng_Q4_Q1</th>\n",
       "      <th>Avg_Utilization_Ratio</th>\n",
       "      <th>Naive_Bayes_Classifier_Attrition_Flag_Card_Category_Contacts_Count_12_mon_Dependent_count_Education_Level_Months_Inactive_12_mon_1</th>\n",
       "      <th>Naive_Bayes_Classifier_Attrition_Flag_Card_Category_Contacts_Count_12_mon_Dependent_count_Education_Level_Months_Inactive_12_mon_2</th>\n",
       "    </tr>\n",
       "  </thead>\n",
       "  <tbody>\n",
       "    <tr>\n",
       "      <th>0</th>\n",
       "      <td>768805383</td>\n",
       "      <td>Existing Customer</td>\n",
       "      <td>45</td>\n",
       "      <td>M</td>\n",
       "      <td>3</td>\n",
       "      <td>High School</td>\n",
       "      <td>Married</td>\n",
       "      <td>$60K - $80K</td>\n",
       "      <td>Blue</td>\n",
       "      <td>39</td>\n",
       "      <td>...</td>\n",
       "      <td>12691.0</td>\n",
       "      <td>777</td>\n",
       "      <td>11914.0</td>\n",
       "      <td>1.335</td>\n",
       "      <td>1144</td>\n",
       "      <td>42</td>\n",
       "      <td>1.625</td>\n",
       "      <td>0.061</td>\n",
       "      <td>0.000093</td>\n",
       "      <td>0.99991</td>\n",
       "    </tr>\n",
       "    <tr>\n",
       "      <th>1</th>\n",
       "      <td>818770008</td>\n",
       "      <td>Existing Customer</td>\n",
       "      <td>49</td>\n",
       "      <td>F</td>\n",
       "      <td>5</td>\n",
       "      <td>Graduate</td>\n",
       "      <td>Single</td>\n",
       "      <td>Less than $40K</td>\n",
       "      <td>Blue</td>\n",
       "      <td>44</td>\n",
       "      <td>...</td>\n",
       "      <td>8256.0</td>\n",
       "      <td>864</td>\n",
       "      <td>7392.0</td>\n",
       "      <td>1.541</td>\n",
       "      <td>1291</td>\n",
       "      <td>33</td>\n",
       "      <td>3.714</td>\n",
       "      <td>0.105</td>\n",
       "      <td>0.000057</td>\n",
       "      <td>0.99994</td>\n",
       "    </tr>\n",
       "    <tr>\n",
       "      <th>2</th>\n",
       "      <td>713982108</td>\n",
       "      <td>Existing Customer</td>\n",
       "      <td>51</td>\n",
       "      <td>M</td>\n",
       "      <td>3</td>\n",
       "      <td>Graduate</td>\n",
       "      <td>Married</td>\n",
       "      <td>$80K - $120K</td>\n",
       "      <td>Blue</td>\n",
       "      <td>36</td>\n",
       "      <td>...</td>\n",
       "      <td>3418.0</td>\n",
       "      <td>0</td>\n",
       "      <td>3418.0</td>\n",
       "      <td>2.594</td>\n",
       "      <td>1887</td>\n",
       "      <td>20</td>\n",
       "      <td>2.333</td>\n",
       "      <td>0.000</td>\n",
       "      <td>0.000021</td>\n",
       "      <td>0.99998</td>\n",
       "    </tr>\n",
       "    <tr>\n",
       "      <th>3</th>\n",
       "      <td>769911858</td>\n",
       "      <td>Existing Customer</td>\n",
       "      <td>40</td>\n",
       "      <td>F</td>\n",
       "      <td>4</td>\n",
       "      <td>High School</td>\n",
       "      <td>Unknown</td>\n",
       "      <td>Less than $40K</td>\n",
       "      <td>Blue</td>\n",
       "      <td>34</td>\n",
       "      <td>...</td>\n",
       "      <td>3313.0</td>\n",
       "      <td>2517</td>\n",
       "      <td>796.0</td>\n",
       "      <td>1.405</td>\n",
       "      <td>1171</td>\n",
       "      <td>20</td>\n",
       "      <td>2.333</td>\n",
       "      <td>0.760</td>\n",
       "      <td>0.000134</td>\n",
       "      <td>0.99987</td>\n",
       "    </tr>\n",
       "    <tr>\n",
       "      <th>4</th>\n",
       "      <td>709106358</td>\n",
       "      <td>Existing Customer</td>\n",
       "      <td>40</td>\n",
       "      <td>M</td>\n",
       "      <td>3</td>\n",
       "      <td>Uneducated</td>\n",
       "      <td>Married</td>\n",
       "      <td>$60K - $80K</td>\n",
       "      <td>Blue</td>\n",
       "      <td>21</td>\n",
       "      <td>...</td>\n",
       "      <td>4716.0</td>\n",
       "      <td>0</td>\n",
       "      <td>4716.0</td>\n",
       "      <td>2.175</td>\n",
       "      <td>816</td>\n",
       "      <td>28</td>\n",
       "      <td>2.500</td>\n",
       "      <td>0.000</td>\n",
       "      <td>0.000022</td>\n",
       "      <td>0.99998</td>\n",
       "    </tr>\n",
       "  </tbody>\n",
       "</table>\n",
       "<p>5 rows × 23 columns</p>\n",
       "</div>"
      ],
      "text/plain": [
       "   CLIENTNUM     Attrition_Flag  Customer_Age Gender  Dependent_count  \\\n",
       "0  768805383  Existing Customer            45      M                3   \n",
       "1  818770008  Existing Customer            49      F                5   \n",
       "2  713982108  Existing Customer            51      M                3   \n",
       "3  769911858  Existing Customer            40      F                4   \n",
       "4  709106358  Existing Customer            40      M                3   \n",
       "\n",
       "  Education_Level Marital_Status Income_Category Card_Category  \\\n",
       "0     High School        Married     $60K - $80K          Blue   \n",
       "1        Graduate         Single  Less than $40K          Blue   \n",
       "2        Graduate        Married    $80K - $120K          Blue   \n",
       "3     High School        Unknown  Less than $40K          Blue   \n",
       "4      Uneducated        Married     $60K - $80K          Blue   \n",
       "\n",
       "   Months_on_book  ...  Credit_Limit  Total_Revolving_Bal  Avg_Open_To_Buy  \\\n",
       "0              39  ...       12691.0                  777          11914.0   \n",
       "1              44  ...        8256.0                  864           7392.0   \n",
       "2              36  ...        3418.0                    0           3418.0   \n",
       "3              34  ...        3313.0                 2517            796.0   \n",
       "4              21  ...        4716.0                    0           4716.0   \n",
       "\n",
       "   Total_Amt_Chng_Q4_Q1  Total_Trans_Amt  Total_Trans_Ct  Total_Ct_Chng_Q4_Q1  \\\n",
       "0                 1.335             1144              42                1.625   \n",
       "1                 1.541             1291              33                3.714   \n",
       "2                 2.594             1887              20                2.333   \n",
       "3                 1.405             1171              20                2.333   \n",
       "4                 2.175              816              28                2.500   \n",
       "\n",
       "   Avg_Utilization_Ratio  \\\n",
       "0                  0.061   \n",
       "1                  0.105   \n",
       "2                  0.000   \n",
       "3                  0.760   \n",
       "4                  0.000   \n",
       "\n",
       "   Naive_Bayes_Classifier_Attrition_Flag_Card_Category_Contacts_Count_12_mon_Dependent_count_Education_Level_Months_Inactive_12_mon_1  \\\n",
       "0                                           0.000093                                                                                    \n",
       "1                                           0.000057                                                                                    \n",
       "2                                           0.000021                                                                                    \n",
       "3                                           0.000134                                                                                    \n",
       "4                                           0.000022                                                                                    \n",
       "\n",
       "   Naive_Bayes_Classifier_Attrition_Flag_Card_Category_Contacts_Count_12_mon_Dependent_count_Education_Level_Months_Inactive_12_mon_2  \n",
       "0                                            0.99991                                                                                   \n",
       "1                                            0.99994                                                                                   \n",
       "2                                            0.99998                                                                                   \n",
       "3                                            0.99987                                                                                   \n",
       "4                                            0.99998                                                                                   \n",
       "\n",
       "[5 rows x 23 columns]"
      ]
     },
     "execution_count": 4,
     "metadata": {},
     "output_type": "execute_result"
    }
   ],
   "source": [
    "raw.head()"
   ]
  },
  {
   "cell_type": "code",
   "execution_count": 5,
   "id": "ab11ae09",
   "metadata": {},
   "outputs": [],
   "source": [
    "# Removing Naive_Bayes_Classifier_Attrition_Flag - column 21 & 22\n",
    "\n",
    "df = raw.loc[:, :\"Avg_Utilization_Ratio\"]"
   ]
  },
  {
   "cell_type": "code",
   "execution_count": 6,
   "id": "60bd2792",
   "metadata": {},
   "outputs": [
    {
     "data": {
      "text/html": [
       "<div>\n",
       "<style scoped>\n",
       "    .dataframe tbody tr th:only-of-type {\n",
       "        vertical-align: middle;\n",
       "    }\n",
       "\n",
       "    .dataframe tbody tr th {\n",
       "        vertical-align: top;\n",
       "    }\n",
       "\n",
       "    .dataframe thead th {\n",
       "        text-align: right;\n",
       "    }\n",
       "</style>\n",
       "<table border=\"1\" class=\"dataframe\">\n",
       "  <thead>\n",
       "    <tr style=\"text-align: right;\">\n",
       "      <th></th>\n",
       "      <th>count</th>\n",
       "      <th>mean</th>\n",
       "      <th>std</th>\n",
       "      <th>min</th>\n",
       "      <th>25%</th>\n",
       "      <th>50%</th>\n",
       "      <th>75%</th>\n",
       "      <th>max</th>\n",
       "    </tr>\n",
       "  </thead>\n",
       "  <tbody>\n",
       "    <tr>\n",
       "      <th>CLIENTNUM</th>\n",
       "      <td>10127.0</td>\n",
       "      <td>7.391776e+08</td>\n",
       "      <td>3.690378e+07</td>\n",
       "      <td>708082083.0</td>\n",
       "      <td>7.130368e+08</td>\n",
       "      <td>7.179264e+08</td>\n",
       "      <td>7.731435e+08</td>\n",
       "      <td>8.283431e+08</td>\n",
       "    </tr>\n",
       "    <tr>\n",
       "      <th>Customer_Age</th>\n",
       "      <td>10127.0</td>\n",
       "      <td>4.632596e+01</td>\n",
       "      <td>8.016814e+00</td>\n",
       "      <td>26.0</td>\n",
       "      <td>4.100000e+01</td>\n",
       "      <td>4.600000e+01</td>\n",
       "      <td>5.200000e+01</td>\n",
       "      <td>7.300000e+01</td>\n",
       "    </tr>\n",
       "    <tr>\n",
       "      <th>Dependent_count</th>\n",
       "      <td>10127.0</td>\n",
       "      <td>2.346203e+00</td>\n",
       "      <td>1.298908e+00</td>\n",
       "      <td>0.0</td>\n",
       "      <td>1.000000e+00</td>\n",
       "      <td>2.000000e+00</td>\n",
       "      <td>3.000000e+00</td>\n",
       "      <td>5.000000e+00</td>\n",
       "    </tr>\n",
       "    <tr>\n",
       "      <th>Months_on_book</th>\n",
       "      <td>10127.0</td>\n",
       "      <td>3.592841e+01</td>\n",
       "      <td>7.986416e+00</td>\n",
       "      <td>13.0</td>\n",
       "      <td>3.100000e+01</td>\n",
       "      <td>3.600000e+01</td>\n",
       "      <td>4.000000e+01</td>\n",
       "      <td>5.600000e+01</td>\n",
       "    </tr>\n",
       "    <tr>\n",
       "      <th>Total_Relationship_Count</th>\n",
       "      <td>10127.0</td>\n",
       "      <td>3.812580e+00</td>\n",
       "      <td>1.554408e+00</td>\n",
       "      <td>1.0</td>\n",
       "      <td>3.000000e+00</td>\n",
       "      <td>4.000000e+00</td>\n",
       "      <td>5.000000e+00</td>\n",
       "      <td>6.000000e+00</td>\n",
       "    </tr>\n",
       "    <tr>\n",
       "      <th>Months_Inactive_12_mon</th>\n",
       "      <td>10127.0</td>\n",
       "      <td>2.341167e+00</td>\n",
       "      <td>1.010622e+00</td>\n",
       "      <td>0.0</td>\n",
       "      <td>2.000000e+00</td>\n",
       "      <td>2.000000e+00</td>\n",
       "      <td>3.000000e+00</td>\n",
       "      <td>6.000000e+00</td>\n",
       "    </tr>\n",
       "    <tr>\n",
       "      <th>Contacts_Count_12_mon</th>\n",
       "      <td>10127.0</td>\n",
       "      <td>2.455317e+00</td>\n",
       "      <td>1.106225e+00</td>\n",
       "      <td>0.0</td>\n",
       "      <td>2.000000e+00</td>\n",
       "      <td>2.000000e+00</td>\n",
       "      <td>3.000000e+00</td>\n",
       "      <td>6.000000e+00</td>\n",
       "    </tr>\n",
       "    <tr>\n",
       "      <th>Credit_Limit</th>\n",
       "      <td>10127.0</td>\n",
       "      <td>8.631954e+03</td>\n",
       "      <td>9.088777e+03</td>\n",
       "      <td>1438.3</td>\n",
       "      <td>2.555000e+03</td>\n",
       "      <td>4.549000e+03</td>\n",
       "      <td>1.106750e+04</td>\n",
       "      <td>3.451600e+04</td>\n",
       "    </tr>\n",
       "    <tr>\n",
       "      <th>Total_Revolving_Bal</th>\n",
       "      <td>10127.0</td>\n",
       "      <td>1.162814e+03</td>\n",
       "      <td>8.149873e+02</td>\n",
       "      <td>0.0</td>\n",
       "      <td>3.590000e+02</td>\n",
       "      <td>1.276000e+03</td>\n",
       "      <td>1.784000e+03</td>\n",
       "      <td>2.517000e+03</td>\n",
       "    </tr>\n",
       "    <tr>\n",
       "      <th>Avg_Open_To_Buy</th>\n",
       "      <td>10127.0</td>\n",
       "      <td>7.469140e+03</td>\n",
       "      <td>9.090685e+03</td>\n",
       "      <td>3.0</td>\n",
       "      <td>1.324500e+03</td>\n",
       "      <td>3.474000e+03</td>\n",
       "      <td>9.859000e+03</td>\n",
       "      <td>3.451600e+04</td>\n",
       "    </tr>\n",
       "    <tr>\n",
       "      <th>Total_Amt_Chng_Q4_Q1</th>\n",
       "      <td>10127.0</td>\n",
       "      <td>7.599407e-01</td>\n",
       "      <td>2.192068e-01</td>\n",
       "      <td>0.0</td>\n",
       "      <td>6.310000e-01</td>\n",
       "      <td>7.360000e-01</td>\n",
       "      <td>8.590000e-01</td>\n",
       "      <td>3.397000e+00</td>\n",
       "    </tr>\n",
       "    <tr>\n",
       "      <th>Total_Trans_Amt</th>\n",
       "      <td>10127.0</td>\n",
       "      <td>4.404086e+03</td>\n",
       "      <td>3.397129e+03</td>\n",
       "      <td>510.0</td>\n",
       "      <td>2.155500e+03</td>\n",
       "      <td>3.899000e+03</td>\n",
       "      <td>4.741000e+03</td>\n",
       "      <td>1.848400e+04</td>\n",
       "    </tr>\n",
       "    <tr>\n",
       "      <th>Total_Trans_Ct</th>\n",
       "      <td>10127.0</td>\n",
       "      <td>6.485869e+01</td>\n",
       "      <td>2.347257e+01</td>\n",
       "      <td>10.0</td>\n",
       "      <td>4.500000e+01</td>\n",
       "      <td>6.700000e+01</td>\n",
       "      <td>8.100000e+01</td>\n",
       "      <td>1.390000e+02</td>\n",
       "    </tr>\n",
       "    <tr>\n",
       "      <th>Total_Ct_Chng_Q4_Q1</th>\n",
       "      <td>10127.0</td>\n",
       "      <td>7.122224e-01</td>\n",
       "      <td>2.380861e-01</td>\n",
       "      <td>0.0</td>\n",
       "      <td>5.820000e-01</td>\n",
       "      <td>7.020000e-01</td>\n",
       "      <td>8.180000e-01</td>\n",
       "      <td>3.714000e+00</td>\n",
       "    </tr>\n",
       "    <tr>\n",
       "      <th>Avg_Utilization_Ratio</th>\n",
       "      <td>10127.0</td>\n",
       "      <td>2.748936e-01</td>\n",
       "      <td>2.756915e-01</td>\n",
       "      <td>0.0</td>\n",
       "      <td>2.300000e-02</td>\n",
       "      <td>1.760000e-01</td>\n",
       "      <td>5.030000e-01</td>\n",
       "      <td>9.990000e-01</td>\n",
       "    </tr>\n",
       "  </tbody>\n",
       "</table>\n",
       "</div>"
      ],
      "text/plain": [
       "                            count          mean           std          min  \\\n",
       "CLIENTNUM                 10127.0  7.391776e+08  3.690378e+07  708082083.0   \n",
       "Customer_Age              10127.0  4.632596e+01  8.016814e+00         26.0   \n",
       "Dependent_count           10127.0  2.346203e+00  1.298908e+00          0.0   \n",
       "Months_on_book            10127.0  3.592841e+01  7.986416e+00         13.0   \n",
       "Total_Relationship_Count  10127.0  3.812580e+00  1.554408e+00          1.0   \n",
       "Months_Inactive_12_mon    10127.0  2.341167e+00  1.010622e+00          0.0   \n",
       "Contacts_Count_12_mon     10127.0  2.455317e+00  1.106225e+00          0.0   \n",
       "Credit_Limit              10127.0  8.631954e+03  9.088777e+03       1438.3   \n",
       "Total_Revolving_Bal       10127.0  1.162814e+03  8.149873e+02          0.0   \n",
       "Avg_Open_To_Buy           10127.0  7.469140e+03  9.090685e+03          3.0   \n",
       "Total_Amt_Chng_Q4_Q1      10127.0  7.599407e-01  2.192068e-01          0.0   \n",
       "Total_Trans_Amt           10127.0  4.404086e+03  3.397129e+03        510.0   \n",
       "Total_Trans_Ct            10127.0  6.485869e+01  2.347257e+01         10.0   \n",
       "Total_Ct_Chng_Q4_Q1       10127.0  7.122224e-01  2.380861e-01          0.0   \n",
       "Avg_Utilization_Ratio     10127.0  2.748936e-01  2.756915e-01          0.0   \n",
       "\n",
       "                                   25%           50%           75%  \\\n",
       "CLIENTNUM                 7.130368e+08  7.179264e+08  7.731435e+08   \n",
       "Customer_Age              4.100000e+01  4.600000e+01  5.200000e+01   \n",
       "Dependent_count           1.000000e+00  2.000000e+00  3.000000e+00   \n",
       "Months_on_book            3.100000e+01  3.600000e+01  4.000000e+01   \n",
       "Total_Relationship_Count  3.000000e+00  4.000000e+00  5.000000e+00   \n",
       "Months_Inactive_12_mon    2.000000e+00  2.000000e+00  3.000000e+00   \n",
       "Contacts_Count_12_mon     2.000000e+00  2.000000e+00  3.000000e+00   \n",
       "Credit_Limit              2.555000e+03  4.549000e+03  1.106750e+04   \n",
       "Total_Revolving_Bal       3.590000e+02  1.276000e+03  1.784000e+03   \n",
       "Avg_Open_To_Buy           1.324500e+03  3.474000e+03  9.859000e+03   \n",
       "Total_Amt_Chng_Q4_Q1      6.310000e-01  7.360000e-01  8.590000e-01   \n",
       "Total_Trans_Amt           2.155500e+03  3.899000e+03  4.741000e+03   \n",
       "Total_Trans_Ct            4.500000e+01  6.700000e+01  8.100000e+01   \n",
       "Total_Ct_Chng_Q4_Q1       5.820000e-01  7.020000e-01  8.180000e-01   \n",
       "Avg_Utilization_Ratio     2.300000e-02  1.760000e-01  5.030000e-01   \n",
       "\n",
       "                                   max  \n",
       "CLIENTNUM                 8.283431e+08  \n",
       "Customer_Age              7.300000e+01  \n",
       "Dependent_count           5.000000e+00  \n",
       "Months_on_book            5.600000e+01  \n",
       "Total_Relationship_Count  6.000000e+00  \n",
       "Months_Inactive_12_mon    6.000000e+00  \n",
       "Contacts_Count_12_mon     6.000000e+00  \n",
       "Credit_Limit              3.451600e+04  \n",
       "Total_Revolving_Bal       2.517000e+03  \n",
       "Avg_Open_To_Buy           3.451600e+04  \n",
       "Total_Amt_Chng_Q4_Q1      3.397000e+00  \n",
       "Total_Trans_Amt           1.848400e+04  \n",
       "Total_Trans_Ct            1.390000e+02  \n",
       "Total_Ct_Chng_Q4_Q1       3.714000e+00  \n",
       "Avg_Utilization_Ratio     9.990000e-01  "
      ]
     },
     "execution_count": 6,
     "metadata": {},
     "output_type": "execute_result"
    }
   ],
   "source": [
    "# Review dataset's basic overview of numeric attributes\n",
    "\n",
    "df.describe().transpose()"
   ]
  },
  {
   "cell_type": "code",
   "execution_count": 7,
   "id": "5a418850",
   "metadata": {},
   "outputs": [
    {
     "data": {
      "text/html": [
       "<div>\n",
       "<style scoped>\n",
       "    .dataframe tbody tr th:only-of-type {\n",
       "        vertical-align: middle;\n",
       "    }\n",
       "\n",
       "    .dataframe tbody tr th {\n",
       "        vertical-align: top;\n",
       "    }\n",
       "\n",
       "    .dataframe thead th {\n",
       "        text-align: right;\n",
       "    }\n",
       "</style>\n",
       "<table border=\"1\" class=\"dataframe\">\n",
       "  <thead>\n",
       "    <tr style=\"text-align: right;\">\n",
       "      <th></th>\n",
       "      <th>count</th>\n",
       "      <th>unique</th>\n",
       "      <th>top</th>\n",
       "      <th>freq</th>\n",
       "    </tr>\n",
       "  </thead>\n",
       "  <tbody>\n",
       "    <tr>\n",
       "      <th>Attrition_Flag</th>\n",
       "      <td>10127</td>\n",
       "      <td>2</td>\n",
       "      <td>Existing Customer</td>\n",
       "      <td>8500</td>\n",
       "    </tr>\n",
       "    <tr>\n",
       "      <th>Gender</th>\n",
       "      <td>10127</td>\n",
       "      <td>2</td>\n",
       "      <td>F</td>\n",
       "      <td>5358</td>\n",
       "    </tr>\n",
       "    <tr>\n",
       "      <th>Education_Level</th>\n",
       "      <td>10127</td>\n",
       "      <td>7</td>\n",
       "      <td>Graduate</td>\n",
       "      <td>3128</td>\n",
       "    </tr>\n",
       "    <tr>\n",
       "      <th>Marital_Status</th>\n",
       "      <td>10127</td>\n",
       "      <td>4</td>\n",
       "      <td>Married</td>\n",
       "      <td>4687</td>\n",
       "    </tr>\n",
       "    <tr>\n",
       "      <th>Income_Category</th>\n",
       "      <td>10127</td>\n",
       "      <td>6</td>\n",
       "      <td>Less than $40K</td>\n",
       "      <td>3561</td>\n",
       "    </tr>\n",
       "    <tr>\n",
       "      <th>Card_Category</th>\n",
       "      <td>10127</td>\n",
       "      <td>4</td>\n",
       "      <td>Blue</td>\n",
       "      <td>9436</td>\n",
       "    </tr>\n",
       "  </tbody>\n",
       "</table>\n",
       "</div>"
      ],
      "text/plain": [
       "                 count unique                top  freq\n",
       "Attrition_Flag   10127      2  Existing Customer  8500\n",
       "Gender           10127      2                  F  5358\n",
       "Education_Level  10127      7           Graduate  3128\n",
       "Marital_Status   10127      4            Married  4687\n",
       "Income_Category  10127      6     Less than $40K  3561\n",
       "Card_Category    10127      4               Blue  9436"
      ]
     },
     "execution_count": 7,
     "metadata": {},
     "output_type": "execute_result"
    }
   ],
   "source": [
    "# Review dataset's basic overview of categorical attributes\n",
    "\n",
    "df.describe(include = \"O\").transpose()"
   ]
  },
  {
   "cell_type": "code",
   "execution_count": 8,
   "id": "06b904f5",
   "metadata": {},
   "outputs": [
    {
     "data": {
      "text/plain": [
       "CLIENTNUM                   0\n",
       "Attrition_Flag              0\n",
       "Customer_Age                0\n",
       "Gender                      0\n",
       "Dependent_count             0\n",
       "Education_Level             0\n",
       "Marital_Status              0\n",
       "Income_Category             0\n",
       "Card_Category               0\n",
       "Months_on_book              0\n",
       "Total_Relationship_Count    0\n",
       "Months_Inactive_12_mon      0\n",
       "Contacts_Count_12_mon       0\n",
       "Credit_Limit                0\n",
       "Total_Revolving_Bal         0\n",
       "Avg_Open_To_Buy             0\n",
       "Total_Amt_Chng_Q4_Q1        0\n",
       "Total_Trans_Amt             0\n",
       "Total_Trans_Ct              0\n",
       "Total_Ct_Chng_Q4_Q1         0\n",
       "Avg_Utilization_Ratio       0\n",
       "dtype: int64"
      ]
     },
     "execution_count": 8,
     "metadata": {},
     "output_type": "execute_result"
    }
   ],
   "source": [
    "# Check if there is any null values\n",
    "\n",
    "df.isna().sum() # No NAs in dataset"
   ]
  },
  {
   "cell_type": "code",
   "execution_count": 9,
   "id": "8cad2d62",
   "metadata": {},
   "outputs": [
    {
     "data": {
      "text/plain": [
       "Graduate         3128\n",
       "High School      2013\n",
       "Unknown          1519\n",
       "Uneducated       1487\n",
       "College          1013\n",
       "Post-Graduate     516\n",
       "Doctorate         451\n",
       "Name: Education_Level, dtype: int64"
      ]
     },
     "execution_count": 9,
     "metadata": {},
     "output_type": "execute_result"
    }
   ],
   "source": [
    "# Basic checks if data has been cleaned prior - Education Level\n",
    "\n",
    "df[\"Education_Level\"].value_counts() # 1519 unknowns"
   ]
  },
  {
   "cell_type": "code",
   "execution_count": 10,
   "id": "eb2bcb66",
   "metadata": {},
   "outputs": [
    {
     "data": {
      "text/plain": [
       "Married     4687\n",
       "Single      3943\n",
       "Unknown      749\n",
       "Divorced     748\n",
       "Name: Marital_Status, dtype: int64"
      ]
     },
     "execution_count": 10,
     "metadata": {},
     "output_type": "execute_result"
    }
   ],
   "source": [
    "# Basic checks if data has been cleaned prior - Marital_Status\n",
    "\n",
    "df[\"Marital_Status\"].value_counts() # 749 unknown"
   ]
  },
  {
   "cell_type": "code",
   "execution_count": 11,
   "id": "749c8a85",
   "metadata": {},
   "outputs": [
    {
     "data": {
      "text/plain": [
       "Less than $40K    3561\n",
       "$40K - $60K       1790\n",
       "$80K - $120K      1535\n",
       "$60K - $80K       1402\n",
       "Unknown           1112\n",
       "$120K +            727\n",
       "Name: Income_Category, dtype: int64"
      ]
     },
     "execution_count": 11,
     "metadata": {},
     "output_type": "execute_result"
    }
   ],
   "source": [
    "# Basic checks if data has been cleaned prior - Income_Category\n",
    "\n",
    "df[\"Income_Category\"].value_counts() # 1112 unknown"
   ]
  },
  {
   "cell_type": "code",
   "execution_count": 12,
   "id": "3d9fec57",
   "metadata": {},
   "outputs": [
    {
     "data": {
      "text/plain": [
       "Blue        9436\n",
       "Silver       555\n",
       "Gold         116\n",
       "Platinum      20\n",
       "Name: Card_Category, dtype: int64"
      ]
     },
     "execution_count": 12,
     "metadata": {},
     "output_type": "execute_result"
    }
   ],
   "source": [
    "# Basic checks if data has been cleaned prior - Card_Category\n",
    "\n",
    "df[\"Card_Category\"].value_counts() # All known - 20 Platinum, might not be useful"
   ]
  },
  {
   "cell_type": "code",
   "execution_count": 13,
   "id": "7a220342",
   "metadata": {},
   "outputs": [
    {
     "data": {
      "text/plain": [
       "10127"
      ]
     },
     "execution_count": 13,
     "metadata": {},
     "output_type": "execute_result"
    }
   ],
   "source": [
    "# Basic checks if data has been cleaned prior - CLIENTNUM\n",
    "\n",
    "(df[\"CLIENTNUM\"] == \"unknown\").count() # All known - 20 Platinum, might not be useful"
   ]
  },
  {
   "cell_type": "code",
   "execution_count": 14,
   "id": "3cdc5697",
   "metadata": {},
   "outputs": [
    {
     "data": {
      "text/html": [
       "<div>\n",
       "<style scoped>\n",
       "    .dataframe tbody tr th:only-of-type {\n",
       "        vertical-align: middle;\n",
       "    }\n",
       "\n",
       "    .dataframe tbody tr th {\n",
       "        vertical-align: top;\n",
       "    }\n",
       "\n",
       "    .dataframe thead th {\n",
       "        text-align: right;\n",
       "    }\n",
       "</style>\n",
       "<table border=\"1\" class=\"dataframe\">\n",
       "  <thead>\n",
       "    <tr style=\"text-align: right;\">\n",
       "      <th></th>\n",
       "      <th>CLIENTNUM</th>\n",
       "      <th>Attrition_Flag</th>\n",
       "      <th>Customer_Age</th>\n",
       "      <th>Gender</th>\n",
       "      <th>Dependent_count</th>\n",
       "      <th>Education_Level</th>\n",
       "      <th>Marital_Status</th>\n",
       "      <th>Income_Category</th>\n",
       "      <th>Card_Category</th>\n",
       "      <th>Months_on_book</th>\n",
       "      <th>...</th>\n",
       "      <th>Months_Inactive_12_mon</th>\n",
       "      <th>Contacts_Count_12_mon</th>\n",
       "      <th>Credit_Limit</th>\n",
       "      <th>Total_Revolving_Bal</th>\n",
       "      <th>Avg_Open_To_Buy</th>\n",
       "      <th>Total_Amt_Chng_Q4_Q1</th>\n",
       "      <th>Total_Trans_Amt</th>\n",
       "      <th>Total_Trans_Ct</th>\n",
       "      <th>Total_Ct_Chng_Q4_Q1</th>\n",
       "      <th>Avg_Utilization_Ratio</th>\n",
       "    </tr>\n",
       "  </thead>\n",
       "  <tbody>\n",
       "  </tbody>\n",
       "</table>\n",
       "<p>0 rows × 21 columns</p>\n",
       "</div>"
      ],
      "text/plain": [
       "Empty DataFrame\n",
       "Columns: [CLIENTNUM, Attrition_Flag, Customer_Age, Gender, Dependent_count, Education_Level, Marital_Status, Income_Category, Card_Category, Months_on_book, Total_Relationship_Count, Months_Inactive_12_mon, Contacts_Count_12_mon, Credit_Limit, Total_Revolving_Bal, Avg_Open_To_Buy, Total_Amt_Chng_Q4_Q1, Total_Trans_Amt, Total_Trans_Ct, Total_Ct_Chng_Q4_Q1, Avg_Utilization_Ratio]\n",
       "Index: []\n",
       "\n",
       "[0 rows x 21 columns]"
      ]
     },
     "execution_count": 14,
     "metadata": {},
     "output_type": "execute_result"
    }
   ],
   "source": [
    "# Checking for duplicate records\n",
    "\n",
    "df[df.duplicated()]"
   ]
  },
  {
   "cell_type": "markdown",
   "id": "0e0c26df",
   "metadata": {},
   "source": [
    "<a id=\"Feature-Description\"></a>\n",
    "## 2A Feature Description Table\n",
    "From the above exploration and basic cleaning, we now have the dataset in the following description table for us to work with:\n",
    "\n",
    "| Data | Description |\n",
    "| :-- | :-- |\n",
    "| CLIENTNUM | Primary Key: Client number. Unique identifier for the customer |\n",
    "| Customer_Age | Demographic: Customer's Age in year |\n",
    "| Gender | Demographic: Gender of customer (M = Male, F = Female) |\n",
    "| Dependent_count | Demographic: Number of dependents of customer |\n",
    "| Education_Level | Demographic: Customer's education level (High School, Doctorate, Post-Gradudate, Uneducated, Unknown, College) |\n",
    "| Marital_Status | Demographic: (Married, Single, Divorced, Unknown) |\n",
    "| Income_Category | Demographic: Annual Income Category of the account holder |\n",
    "| Card_Category | Product: Type of Card (Blue, Silver, Gold, Platinum) |\n",
    "| Months_on_book | Duration of customer with bank, number of months |\n",
    "| Total_Relationship_Count | Number of products held by the customer |\n",
    "| Months_Inactive_12_mon | No. of months inactive in the last 12 months | \n",
    "| Contacts_Count_12_mon | No. of months that customer has at least 1 transaction |\n",
    "| Credit_Limit | Total Credit Limit on the Credit Card ($) |\n",
    "| Total_Revolving_Bal | Total Revolving balance on credit cards ($) |\n",
    "| Avg_Open_To_Buy | Average amount spent ($) |\n",
    "| Total_Amt_Chng_Q4_Q1 | Change in Transaction Amount (Q4 over Q1) |\n",
    "| Total_Trans_Amt | Total Transaction Amount (Last 12 months) |\n",
    "| Total_Trans_Ct | Total Transaction Count (Last 12 months) |\n",
    "| Total_Ct_Chng_Q4_Q1 | Change in Transaction Count (Q4 over Q1) |\n",
    "| Avg_Utilization_Ratio | Average Card Utilization rate |"
   ]
  },
  {
   "cell_type": "markdown",
   "id": "6da14f02",
   "metadata": {},
   "source": [
    "<a id=\"Target-Attribute\"></a>\n",
    "## 2B Target Attribute\n",
    "| Data | Description |\n",
    "| :-- | :-- |\n",
    "| Attrition_Flag | Event: If account is active (1: Attrited Customer, 0: Existing Customer) |"
   ]
  },
  {
   "cell_type": "markdown",
   "id": "5c386b3f",
   "metadata": {},
   "source": [
    "<a id=\"Data-Visualisation\"></a>\n",
    "# 03 Data Visualisation\n"
   ]
  },
  {
   "cell_type": "code",
   "execution_count": 15,
   "id": "58878bef",
   "metadata": {},
   "outputs": [
    {
     "data": {
      "text/plain": [
       "<Figure size 432x288 with 0 Axes>"
      ]
     },
     "metadata": {},
     "output_type": "display_data"
    },
    {
     "data": {
      "image/png": "[encoded data removed]",
      "text/plain": [
       "<Figure size 360x360 with 1 Axes>"
      ]
     },
     "metadata": {
      "needs_background": "light"
     },
     "output_type": "display_data"
    },
    {
     "data": {
      "text/plain": [
       "<Figure size 432x288 with 0 Axes>"
      ]
     },
     "metadata": {},
     "output_type": "display_data"
    },
    {
     "data": {
      "image/png": "[encoded data removed]",
      "text/plain": [
       "<Figure size 360x360 with 1 Axes>"
      ]
     },
     "metadata": {
      "needs_background": "light"
     },
     "output_type": "display_data"
    },
    {
     "data": {
      "text/plain": [
       "<Figure size 432x288 with 0 Axes>"
      ]
     },
     "metadata": {},
     "output_type": "display_data"
    },
    {
     "data": {
      "image/png": "[encoded data removed]",
      "text/plain": [
       "<Figure size 360x360 with 1 Axes>"
      ]
     },
     "metadata": {
      "needs_background": "light"
     },
     "output_type": "display_data"
    },
    {
     "data": {
      "text/plain": [
       "<Figure size 432x288 with 0 Axes>"
      ]
     },
     "metadata": {},
     "output_type": "display_data"
    },
    {
     "data": {
      "image/png": "[encoded data removed]",
      "text/plain": [
       "<Figure size 360x360 with 1 Axes>"
      ]
     },
     "metadata": {
      "needs_background": "light"
     },
     "output_type": "display_data"
    },
    {
     "data": {
      "text/plain": [
       "<Figure size 432x288 with 0 Axes>"
      ]
     },
     "metadata": {},
     "output_type": "display_data"
    },
    {
     "data": {
      "image/png": "[encoded data removed]",
      "text/plain": [
       "<Figure size 360x360 with 1 Axes>"
      ]
     },
     "metadata": {
      "needs_background": "light"
     },
     "output_type": "display_data"
    }
   ],
   "source": [
    "# Plotting continous features \n",
    "continous_features = df.select_dtypes(['float64']).columns.to_list()\n",
    "\n",
    "for cont_feature in continous_features: \n",
    "    plt.figure()\n",
    "    ax = sns.displot(df[cont_feature])\n",
    "    plt.title(cont_feature)"
   ]
  },
  {
   "cell_type": "code",
   "execution_count": 16,
   "id": "19e2e93c",
   "metadata": {},
   "outputs": [
    {
     "data": {
      "text/plain": [
       "<Figure size 432x288 with 0 Axes>"
      ]
     },
     "metadata": {},
     "output_type": "display_data"
    },
    {
     "data": {
      "image/png": "[encoded data removed]",
      "text/plain": [
       "<Figure size 360x360 with 1 Axes>"
      ]
     },
     "metadata": {
      "needs_background": "light"
     },
     "output_type": "display_data"
    },
    {
     "data": {
      "text/plain": [
       "<Figure size 432x288 with 0 Axes>"
      ]
     },
     "metadata": {},
     "output_type": "display_data"
    },
    {
     "data": {
      "image/png": "[encoded data removed]",
      "text/plain": [
       "<Figure size 360x360 with 1 Axes>"
      ]
     },
     "metadata": {
      "needs_background": "light"
     },
     "output_type": "display_data"
    },
    {
     "data": {
      "text/plain": [
       "<Figure size 432x288 with 0 Axes>"
      ]
     },
     "metadata": {},
     "output_type": "display_data"
    },
    {
     "data": {
      "image/png": "[encoded data removed]",
      "text/plain": [
       "<Figure size 360x360 with 1 Axes>"
      ]
     },
     "metadata": {
      "needs_background": "light"
     },
     "output_type": "display_data"
    },
    {
     "data": {
      "text/plain": [
       "<Figure size 432x288 with 0 Axes>"
      ]
     },
     "metadata": {},
     "output_type": "display_data"
    },
    {
     "data": {
      "image/png": "[encoded data removed]",
      "text/plain": [
       "<Figure size 360x360 with 1 Axes>"
      ]
     },
     "metadata": {
      "needs_background": "light"
     },
     "output_type": "display_data"
    },
    {
     "data": {
      "text/plain": [
       "<Figure size 432x288 with 0 Axes>"
      ]
     },
     "metadata": {},
     "output_type": "display_data"
    },
    {
     "data": {
      "image/png": "[encoded data removed]",
      "text/plain": [
       "<Figure size 360x360 with 1 Axes>"
      ]
     },
     "metadata": {
      "needs_background": "light"
     },
     "output_type": "display_data"
    },
    {
     "data": {
      "text/plain": [
       "<Figure size 432x288 with 0 Axes>"
      ]
     },
     "metadata": {},
     "output_type": "display_data"
    },
    {
     "data": {
      "image/png": "[encoded data removed]",
      "text/plain": [
       "<Figure size 360x360 with 1 Axes>"
      ]
     },
     "metadata": {
      "needs_background": "light"
     },
     "output_type": "display_data"
    },
    {
     "data": {
      "text/plain": [
       "<Figure size 432x288 with 0 Axes>"
      ]
     },
     "metadata": {},
     "output_type": "display_data"
    },
    {
     "data": {
      "image/png": "[encoded data removed]",
      "text/plain": [
       "<Figure size 360x360 with 1 Axes>"
      ]
     },
     "metadata": {
      "needs_background": "light"
     },
     "output_type": "display_data"
    },
    {
     "data": {
      "text/plain": [
       "<Figure size 432x288 with 0 Axes>"
      ]
     },
     "metadata": {},
     "output_type": "display_data"
    },
    {
     "data": {
      "image/png": "[encoded data removed]",
      "text/plain": [
       "<Figure size 360x360 with 1 Axes>"
      ]
     },
     "metadata": {
      "needs_background": "light"
     },
     "output_type": "display_data"
    },
    {
     "data": {
      "text/plain": [
       "<Figure size 432x288 with 0 Axes>"
      ]
     },
     "metadata": {},
     "output_type": "display_data"
    },
    {
     "data": {
      "image/png": "[encoded data removed]",
      "text/plain": [
       "<Figure size 360x360 with 1 Axes>"
      ]
     },
     "metadata": {
      "needs_background": "light"
     },
     "output_type": "display_data"
    },
    {
     "data": {
      "text/plain": [
       "<Figure size 432x288 with 0 Axes>"
      ]
     },
     "metadata": {},
     "output_type": "display_data"
    },
    {
     "data": {
      "image/png": "[encoded data removed]",
      "text/plain": [
       "<Figure size 360x360 with 1 Axes>"
      ]
     },
     "metadata": {
      "needs_background": "light"
     },
     "output_type": "display_data"
    }
   ],
   "source": [
    "# Plotting the discrete features in the dataset \n",
    "discrete_features = df.select_dtypes(['int64']).columns.to_list()\n",
    "\n",
    "for disc_feature in discrete_features: \n",
    "    plt.figure()\n",
    "    ax = sns.displot(df[disc_feature],kde = False)\n",
    "    plt.title(disc_feature)"
   ]
  },
  {
   "cell_type": "markdown",
   "id": "17eb1e40",
   "metadata": {},
   "source": [
    "<a id=\"Data-Preparation\"></a>\n",
    "# 04 Data Preparation\n",
    "As for most datasets, we will need to process the features before using them to build the model for the customer's churn."
   ]
  },
  {
   "cell_type": "markdown",
   "id": "9a2f44a0",
   "metadata": {},
   "source": [
    "<a id=\"Data-Discretization\"></a>\n",
    "## 4A Data Discretization\n",
    "Data Discretization is the process of converting a large amount of data into smaller ones while minimizing the loss of information. <br>\n",
    "<br>\n",
    "For our dataset, the <b>age</b> feature ranges from 28 to 73 and that might create skewness in our dataset. We can use binning as a way to categorize the age."
   ]
  },
  {
   "cell_type": "code",
   "execution_count": 17,
   "id": "a9b50eec",
   "metadata": {},
   "outputs": [],
   "source": [
    "# Create a age feature\n",
    "df['Age'] = 0\n",
    "\n",
    "# Categorize the age into bins based on age group of 10s\n",
    "df.loc[(df['Customer_Age'] > 25)&(df['Customer_Age'] <= 35),'Age'] = 0\n",
    "df.loc[(df['Customer_Age'] > 35)&(df['Customer_Age'] <= 45),'Age'] = 1\n",
    "df.loc[(df['Customer_Age'] > 45)&(df['Customer_Age'] <= 55),'Age'] = 2\n",
    "df.loc[(df['Customer_Age'] > 55)&(df['Customer_Age'] <= 65),'Age'] = 3\n",
    "df.loc[df['Customer_Age'] > 65,'Age'] = 4\n",
    "df['Age']=df['Age'].astype(int)"
   ]
  },
  {
   "cell_type": "code",
   "execution_count": 18,
   "id": "ac7d6fff",
   "metadata": {},
   "outputs": [],
   "source": [
    "# Remove the column of `Customer_Age`\n",
    "df.drop(['Customer_Age'],axis = 1,inplace = True)"
   ]
  },
  {
   "cell_type": "code",
   "execution_count": 19,
   "id": "26129bc6",
   "metadata": {},
   "outputs": [
    {
     "data": {
      "text/plain": [
       "Text(0.5, 1.0, 'Age')"
      ]
     },
     "execution_count": 19,
     "metadata": {},
     "output_type": "execute_result"
    },
    {
     "data": {
      "image/png": "[encoded data removed]",
      "text/plain": [
       "<Figure size 432x288 with 1 Axes>"
      ]
     },
     "metadata": {
      "needs_background": "light"
     },
     "output_type": "display_data"
    }
   ],
   "source": [
    "plt.figure()\n",
    "ax = sns.countplot(x = \"Age\", data = df)\n",
    "plt.title(\"Age\")"
   ]
  },
  {
   "cell_type": "markdown",
   "id": "e7e5d07d",
   "metadata": {},
   "source": [
    "<a id=\"Data-Conversion\"></a>\n",
    "## 4B Data Conversion\n",
    "We will need to convert our features' datatype so that they can be ready for the modeling"
   ]
  },
  {
   "cell_type": "code",
   "execution_count": 20,
   "id": "c6675860",
   "metadata": {},
   "outputs": [],
   "source": [
    "# convert bool and object to category \n",
    "cat_types = [\"bool\", \"object\", \"category\"]\n",
    "df_prep = df.copy()\n",
    "\n",
    "# Prepare dataset by applying `category` data types\n",
    "df_prep[df_prep.select_dtypes(cat_types).columns] = df_prep.select_dtypes(cat_types).apply(lambda x: x.astype('category'))"
   ]
  },
  {
   "cell_type": "code",
   "execution_count": 21,
   "id": "a8e1907a",
   "metadata": {},
   "outputs": [
    {
     "name": "stdout",
     "output_type": "stream",
     "text": [
      "<class 'pandas.core.frame.DataFrame'>\n",
      "RangeIndex: 10127 entries, 0 to 10126\n",
      "Data columns (total 21 columns):\n",
      " #   Column                    Non-Null Count  Dtype   \n",
      "---  ------                    --------------  -----   \n",
      " 0   CLIENTNUM                 10127 non-null  int64   \n",
      " 1   Attrition_Flag            10127 non-null  category\n",
      " 2   Gender                    10127 non-null  category\n",
      " 3   Dependent_count           10127 non-null  int64   \n",
      " 4   Education_Level           10127 non-null  category\n",
      " 5   Marital_Status            10127 non-null  category\n",
      " 6   Income_Category           10127 non-null  category\n",
      " 7   Card_Category             10127 non-null  category\n",
      " 8   Months_on_book            10127 non-null  int64   \n",
      " 9   Total_Relationship_Count  10127 non-null  int64   \n",
      " 10  Months_Inactive_12_mon    10127 non-null  int64   \n",
      " 11  Contacts_Count_12_mon     10127 non-null  int64   \n",
      " 12  Credit_Limit              10127 non-null  float64 \n",
      " 13  Total_Revolving_Bal       10127 non-null  int64   \n",
      " 14  Avg_Open_To_Buy           10127 non-null  float64 \n",
      " 15  Total_Amt_Chng_Q4_Q1      10127 non-null  float64 \n",
      " 16  Total_Trans_Amt           10127 non-null  int64   \n",
      " 17  Total_Trans_Ct            10127 non-null  int64   \n",
      " 18  Total_Ct_Chng_Q4_Q1       10127 non-null  float64 \n",
      " 19  Avg_Utilization_Ratio     10127 non-null  float64 \n",
      " 20  Age                       10127 non-null  int32   \n",
      "dtypes: category(6), float64(5), int32(1), int64(9)\n",
      "memory usage: 1.2 MB\n"
     ]
    }
   ],
   "source": [
    "df_prep.info()"
   ]
  },
  {
   "cell_type": "markdown",
   "id": "69977f0c",
   "metadata": {},
   "source": [
    "<a id=\"Feature-Encoding\"></a>\n",
    "## 4C Feature Encoding\n",
    "Feature encoding/dummy coding is the process to convert categorical features/variables into numerical variables for the model.\n",
    "\n",
    "There are 2 main types of categorical datatypes, the ordinal variables and nominal datas, with the former having \"ranking\" while order not mattering for the latter."
   ]
  },
  {
   "cell_type": "code",
   "execution_count": 22,
   "id": "1780044f",
   "metadata": {},
   "outputs": [],
   "source": [
    "# Splitting the data into X to store predictor features & Y to store result\n",
    "flag = {\"Existing Customer\": 0, \"Attrited Customer\": 1}\n",
    "df_prep[\"Attrition_Flag\"] = df_prep[\"Attrition_Flag\"].map(flag)\n",
    "\n",
    "y = df_prep[\"Attrition_Flag\"]\n",
    "X = df_prep.drop(\"Attrition_Flag\", errors = \"ignore\", axis = 1)"
   ]
  },
  {
   "cell_type": "code",
   "execution_count": 23,
   "id": "f831ab59",
   "metadata": {},
   "outputs": [
    {
     "name": "stdout",
     "output_type": "stream",
     "text": [
      "<class 'pandas.core.frame.DataFrame'>\n",
      "RangeIndex: 10127 entries, 0 to 10126\n",
      "Data columns (total 38 columns):\n",
      " #   Column                          Non-Null Count  Dtype  \n",
      "---  ------                          --------------  -----  \n",
      " 0   CLIENTNUM                       10127 non-null  int64  \n",
      " 1   Dependent_count                 10127 non-null  int64  \n",
      " 2   Months_on_book                  10127 non-null  int64  \n",
      " 3   Total_Relationship_Count        10127 non-null  int64  \n",
      " 4   Months_Inactive_12_mon          10127 non-null  int64  \n",
      " 5   Contacts_Count_12_mon           10127 non-null  int64  \n",
      " 6   Credit_Limit                    10127 non-null  float64\n",
      " 7   Total_Revolving_Bal             10127 non-null  int64  \n",
      " 8   Avg_Open_To_Buy                 10127 non-null  float64\n",
      " 9   Total_Amt_Chng_Q4_Q1            10127 non-null  float64\n",
      " 10  Total_Trans_Amt                 10127 non-null  int64  \n",
      " 11  Total_Trans_Ct                  10127 non-null  int64  \n",
      " 12  Total_Ct_Chng_Q4_Q1             10127 non-null  float64\n",
      " 13  Avg_Utilization_Ratio           10127 non-null  float64\n",
      " 14  Age                             10127 non-null  int32  \n",
      " 15  Gender_F                        10127 non-null  uint8  \n",
      " 16  Gender_M                        10127 non-null  uint8  \n",
      " 17  Education_Level_College         10127 non-null  uint8  \n",
      " 18  Education_Level_Doctorate       10127 non-null  uint8  \n",
      " 19  Education_Level_Graduate        10127 non-null  uint8  \n",
      " 20  Education_Level_High School     10127 non-null  uint8  \n",
      " 21  Education_Level_Post-Graduate   10127 non-null  uint8  \n",
      " 22  Education_Level_Uneducated      10127 non-null  uint8  \n",
      " 23  Education_Level_Unknown         10127 non-null  uint8  \n",
      " 24  Marital_Status_Divorced         10127 non-null  uint8  \n",
      " 25  Marital_Status_Married          10127 non-null  uint8  \n",
      " 26  Marital_Status_Single           10127 non-null  uint8  \n",
      " 27  Marital_Status_Unknown          10127 non-null  uint8  \n",
      " 28  Income_Category_$120K +         10127 non-null  uint8  \n",
      " 29  Income_Category_$40K - $60K     10127 non-null  uint8  \n",
      " 30  Income_Category_$60K - $80K     10127 non-null  uint8  \n",
      " 31  Income_Category_$80K - $120K    10127 non-null  uint8  \n",
      " 32  Income_Category_Less than $40K  10127 non-null  uint8  \n",
      " 33  Income_Category_Unknown         10127 non-null  uint8  \n",
      " 34  Card_Category_Blue              10127 non-null  uint8  \n",
      " 35  Card_Category_Gold              10127 non-null  uint8  \n",
      " 36  Card_Category_Platinum          10127 non-null  uint8  \n",
      " 37  Card_Category_Silver            10127 non-null  uint8  \n",
      "dtypes: float64(5), int32(1), int64(9), uint8(23)\n",
      "memory usage: 1.3 MB\n"
     ]
    }
   ],
   "source": [
    "# https://stackoverflow.com/questions/37292872/how-can-i-one-hot-encode-in-python \n",
    "def encode_and_bind(original_dataframe, feature_to_encode):\n",
    "    dummies = pd.get_dummies(original_dataframe[[feature_to_encode]])\n",
    "    res = pd.concat([original_dataframe, dummies], axis=1)\n",
    "    res = res.drop([feature_to_encode], axis=1)\n",
    "    return(res) \n",
    "\n",
    "features_to_encode = X.select_dtypes('category').columns.to_list()\n",
    "for feature in features_to_encode:\n",
    "    X = encode_and_bind(X, feature)\n",
    "    \n",
    "X.info()"
   ]
  },
  {
   "cell_type": "markdown",
   "id": "2671c590",
   "metadata": {},
   "source": [
    "<a id=\"Train-Test-Split\"></a>\n",
    "## 4D Train-Test Data Split"
   ]
  },
  {
   "cell_type": "code",
   "execution_count": 24,
   "id": "e98255cd",
   "metadata": {},
   "outputs": [],
   "source": [
    "# train-test stratified split using 80-20 \n",
    "X_train80, X_test20, y_train80, y_test20 = train_test_split(X, y, test_size = 0.2, \n",
    "                                                            random_state = 0, shuffle = True,\n",
    "                                                            stratify = y)"
   ]
  },
  {
   "cell_type": "code",
   "execution_count": 25,
   "id": "3eafead7",
   "metadata": {},
   "outputs": [
    {
     "name": "stdout",
     "output_type": "stream",
     "text": [
      "0    6799\n",
      "1    1302\n",
      "Name: Attrition_Flag, dtype: int64\n",
      "0    1701\n",
      "1     325\n",
      "Name: Attrition_Flag, dtype: int64\n"
     ]
    }
   ],
   "source": [
    "# Stratified split allows ratio to be consistent\n",
    "print(y_train80.value_counts())\n",
    "print(y_test20.value_counts())"
   ]
  },
  {
   "cell_type": "markdown",
   "id": "c3122711",
   "metadata": {},
   "source": [
    "<a id=\"Random-Forest\"></a>\n",
    "# 4 Random Forest Classifier\n",
    "Since some of our features do have \"unknown\" variables, the random forest classifer can be a good option approach for our model building. Much of this approach is referenced from Kaggle user: Joseph Chan 2021\n",
    "\n",
    "Read more: [Random Forest Algorithm](https://www.javatpoint.com/machine-learning-random-forest-algorithm)"
   ]
  },
  {
   "cell_type": "code",
   "execution_count": 26,
   "id": "101ccb6d",
   "metadata": {},
   "outputs": [
    {
     "name": "stdout",
     "output_type": "stream",
     "text": [
      "Accuracy: 95.51%\n"
     ]
    }
   ],
   "source": [
    "# Building model with RFC\n",
    "RFC = RandomForestClassifier(random_state = 0)\n",
    "RFC.fit(X_train80, y_train80)\n",
    "\n",
    "print(\"Accuracy: %.2f%%\" % ((RFC.score(X_test20, y_test20)) * 100.0))"
   ]
  },
  {
   "cell_type": "markdown",
   "id": "6465d894",
   "metadata": {},
   "source": [
    "<a id=\"RFC-Model-Evaluation\"></a>\n",
    "## 4A Model Evaluation\n",
    "While our model has produced a accurate model of 95.51%, we want to dive deeper to evaluate our model with the [classification report and a confusion matrix](https://www.stackvidhya.com/plot-confusion-matrix-in-python-and-why/) to understand it better"
   ]
  },
  {
   "cell_type": "code",
   "execution_count": 27,
   "id": "10fd33a6",
   "metadata": {},
   "outputs": [
    {
     "data": {
      "image/png": "[encoded data removed]",
      "text/plain": [
       "<Figure size 432x288 with 2 Axes>"
      ]
     },
     "metadata": {
      "needs_background": "light"
     },
     "output_type": "display_data"
    }
   ],
   "source": [
    "# Confusion Matrix for RFC\n",
    "# https://scikit-learn.org/stable/auto_examples/model_selection/plot_confusion_matrix.html#sphx-glr-auto-examples-model-selection-plot-confusion-matrix-py\n",
    "np.set_printoptions(precision = 2)\n",
    "\n",
    "# Plot normalized confusion matrix\n",
    "disp = plot_confusion_matrix(RFC, X_test20, y_test20,\n",
    "                             display_labels = RFC.classes_,\n",
    "                             normalize = \"true\")\n",
    "disp.ax_.set_title(\"Normalized confusion matrix\")\n",
    "\n",
    "plt.show()"
   ]
  },
  {
   "cell_type": "code",
   "execution_count": 28,
   "id": "83899273",
   "metadata": {},
   "outputs": [
    {
     "name": "stdout",
     "output_type": "stream",
     "text": [
      "              precision    recall  f1-score   support\n",
      "\n",
      "           0       0.96      0.99      0.97      1701\n",
      "           1       0.95      0.76      0.84       325\n",
      "\n",
      "    accuracy                           0.96      2026\n",
      "   macro avg       0.95      0.87      0.91      2026\n",
      "weighted avg       0.96      0.96      0.95      2026\n",
      "\n"
     ]
    }
   ],
   "source": [
    "y_predict = RFC.predict(X_test20)\n",
    "\n",
    "# Printing classification report\n",
    "print(classification_report(y_test20, y_predict))"
   ]
  },
  {
   "cell_type": "code",
   "execution_count": 29,
   "id": "1a2d5521",
   "metadata": {},
   "outputs": [
    {
     "name": "stdout",
     "output_type": "stream",
     "text": [
      "Recall: 75.69%\n"
     ]
    }
   ],
   "source": [
    "print(\"Recall: %.2f%%\" % ((recall_score(y_test20,y_predict)) * 100.0))"
   ]
  },
  {
   "cell_type": "markdown",
   "id": "30973e6d",
   "metadata": {},
   "source": [
    "<a id=\"Conclusion\"></a>\n",
    "# 5 Conclusion\n",
    "\n",
    "In conclusion, I feel that we have build a decent RFC model that has a high accuracy rate of 96% with a decent but slightly less promising recall rate of 76% which refers to the <b>True Positives</b> rate. Thus, there are definitely ways to further improve the model or find other approaches to improve the performance of the model. \n",
    "<p style= \"font-family:Georgia;color:#000000;font-size:110%;text-align:center;border-radius:10px 10px;border-style: dotted;border-width:5px;border-color:#323232;\"><br>\n",
    "That said, with this model. The bank can now predict if a customer would likely churn with the data of the past 12-months similar to what we have in this provided dataset. <b>The bank can take stategic preventive measures such as customer outreach or engagement to help avoid the customers from churning and to identify other reasons as to why customers are churning.<br>\n",
    "    <br></p>\n"
   ]
  }
 ],
 "metadata": {
  "kernelspec": {
   "display_name": "Python 3",
   "language": "python",
   "name": "python3"
  },
  "language_info": {
   "codemirror_mode": {
    "name": "ipython",
    "version": 3
   },
   "file_extension": ".py",
   "mimetype": "text/x-python",
   "name": "python",
   "nbconvert_exporter": "python",
   "pygments_lexer": "ipython3",
   "version": "3.8.8"
  }
 },
 "nbformat": 4,
 "nbformat_minor": 5
}
